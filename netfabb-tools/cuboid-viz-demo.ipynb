{
 "cells": [
  {
   "cell_type": "code",
   "execution_count": 52,
   "metadata": {},
   "outputs": [],
   "source": [
    "import open3d as o3d\n",
    "import numpy as np\n",
    "import matplotlib.pyplot as plt\n",
    "import os\n",
    "\n",
    "def get_cuboid_mesh(verts, elems, values, cmap=\"jet\"):\n",
    "    \n",
    "    tri_idx = np.array([[0,0,0,0,0,0,6,6,6,6,6,6],\n",
    "                        [2,3,7,4,1,5,2,3,1,5,4,7],\n",
    "                        [1,2,3,7,5,4,3,7,2,1,5,4]], dtype=int)\n",
    "    mesh = o3d.geometry.TriangleMesh()\n",
    "    tris = np.zeros([12*elems.shape[0],3], dtype=int)\n",
    "    for i, elem in enumerate(elems):\n",
    "        tris[i*12:(i+1)*12,:] = elem[tri_idx].T-1\n",
    "    \n",
    "    mesh.vertices = o3d.utility.Vector3dVector(verts)\n",
    "    mesh.triangles = o3d.utility.Vector3iVector(tris)\n",
    "\n",
    "    cmap = plt.get_cmap(cmap)\n",
    "    lb, ub = min(values), max(values)\n",
    "    values = (values - lb) / (ub - lb)\n",
    "    mesh.vertex_colors = o3d.utility.Vector3dVector(cmap(values)[:,:3])\n",
    "    return mesh\n",
    "                          \n",
    "data_path = r\"C:\\Users\\XuanLiang\\Documents\\GitHub\\netfabb\\dataset\\\\\"\n",
    "data_files = os.listdir(data_path)"
   ]
  },
  {
   "cell_type": "code",
   "execution_count": 59,
   "metadata": {},
   "outputs": [],
   "source": [
    "i = 0\n",
    "data = np.load(data_path + data_files[i])\n",
    "verts, elems, disp = data[\"verts\"], data[\"elems\"], data[\"disp\"]\n",
    "mesh = get_cuboid_mesh(verts, elems, disp[:,2])\n",
    "o3d.visualization.draw_geometries([mesh])"
   ]
  },
  {
   "cell_type": "code",
   "execution_count": 54,
   "metadata": {},
   "outputs": [],
   "source": [
    "import numpy as np\n",
    "import struct\n",
    "\n",
    "def read80(f):\n",
    "    return f.read(80).decode('utf-8').strip()\n",
    "\n",
    "def read_floats(f,N):\n",
    "    arr = np.array(struct.unpack(f\"<{N}f\", f.read(4*N)))\n",
    "    return arr[0] if N == 1 else arr\n",
    "\n",
    "def read_ints(f,N):\n",
    "    arr = np.array(struct.unpack(f\"<{N}i\", f.read(4*N)))\n",
    "    return arr[0] if N == 1 else arr\n",
    "\n",
    "def read_geo_binary(path):\n",
    "    with open(path, 'rb') as f:\n",
    "\n",
    "        ############ Info\n",
    "        assert read80(f) == 'Fortran Binary'\n",
    "        description1 = read80(f)\n",
    "        description2 = read80(f)\n",
    "        assert read80(f) == 'node id off'\n",
    "        assert read80(f) == 'element id off'\n",
    "        # extents_str = read80(f)       # No extents\n",
    "        # extents = read_floats(f,6)    # No extents\n",
    "\n",
    "        ############ Begin part 1\n",
    "        assert read80(f) == 'part'\n",
    "        assert read_ints(f,1) == 1 # Should be 1 part only\n",
    "        description3 = read80(f)\n",
    "\n",
    "        ############ Coordinates\n",
    "        assert read80(f) == 'coordinates'\n",
    "        nn = read_ints(f,1)\n",
    "        # node_ids = read_ints(f,nn) # node id is off\n",
    "        x = read_floats(f,nn)\n",
    "        y = read_floats(f,nn)\n",
    "        z = read_floats(f,nn)\n",
    "        nodes = np.vstack([x,y,z]).T\n",
    "\n",
    "        ############ Elements\n",
    "        element_type = read80(f)\n",
    "        assert(element_type == 'hexa8')\n",
    "        # element_ids = read_ints(f,nn) # element id is off\n",
    "        ne = read_ints(f, 1)\n",
    "        elems = read_ints(f, 8*ne).reshape(ne,8)\n",
    "\n",
    "    data = dict(description1=description1, description2=description2, description3=description3, \n",
    "                nn=nn, nodes=nodes, element_type=element_type, ne=ne, elems=elems)\n",
    "    return data\n",
    "\n",
    "def read_ens_binary(path, num_nodes, num_values):\n",
    "    with open(path, 'rb') as f:\n",
    "        description = read80(f)\n",
    "        assert(read80(f) == 'part')\n",
    "        assert(read_ints(f,1) == 1)\n",
    "        assert(read80(f) == 'coordinates')\n",
    "        arr = read_floats(f,num_nodes*num_values)\n",
    "    data = arr.reshape(num_values, num_nodes).T\n",
    "    return dict(description=description, data=data)"
   ]
  },
  {
   "cell_type": "code",
   "execution_count": 47,
   "metadata": {},
   "outputs": [
    {
     "ename": "FileNotFoundError",
     "evalue": "[Errno 2] No such file or directory: 'example.geo'",
     "output_type": "error",
     "traceback": [
      "\u001b[1;31m---------------------------------------------------------------------------\u001b[0m",
      "\u001b[1;31mFileNotFoundError\u001b[0m                         Traceback (most recent call last)",
      "Cell \u001b[1;32mIn[47], line 1\u001b[0m\n\u001b[1;32m----> 1\u001b[0m data \u001b[38;5;241m=\u001b[39m read_geo_binary(\u001b[38;5;124m\"\u001b[39m\u001b[38;5;124mexample.geo\u001b[39m\u001b[38;5;124m\"\u001b[39m)\n\u001b[0;32m      2\u001b[0m disp_data \u001b[38;5;241m=\u001b[39m read_ens_binary(\u001b[38;5;124m\"\u001b[39m\u001b[38;5;124mexample.ens\u001b[39m\u001b[38;5;124m\"\u001b[39m, data[\u001b[38;5;124m\"\u001b[39m\u001b[38;5;124mnn\u001b[39m\u001b[38;5;124m\"\u001b[39m], \u001b[38;5;241m3\u001b[39m)\n\u001b[0;32m      3\u001b[0m verts, elems, disp \u001b[38;5;241m=\u001b[39m data[\u001b[38;5;124m\"\u001b[39m\u001b[38;5;124mnodes\u001b[39m\u001b[38;5;124m\"\u001b[39m], data[\u001b[38;5;124m\"\u001b[39m\u001b[38;5;124melems\u001b[39m\u001b[38;5;124m\"\u001b[39m], disp_data[\u001b[38;5;124m\"\u001b[39m\u001b[38;5;124mdata\u001b[39m\u001b[38;5;124m\"\u001b[39m]\n",
      "Cell \u001b[1;32mIn[46], line 16\u001b[0m, in \u001b[0;36mread_geo_binary\u001b[1;34m(path)\u001b[0m\n\u001b[0;32m     15\u001b[0m \u001b[38;5;28;01mdef\u001b[39;00m \u001b[38;5;21mread_geo_binary\u001b[39m(path):\n\u001b[1;32m---> 16\u001b[0m     \u001b[38;5;28;01mwith\u001b[39;00m \u001b[38;5;28mopen\u001b[39m(path, \u001b[38;5;124m'\u001b[39m\u001b[38;5;124mrb\u001b[39m\u001b[38;5;124m'\u001b[39m) \u001b[38;5;28;01mas\u001b[39;00m f:\n\u001b[0;32m     17\u001b[0m \n\u001b[0;32m     18\u001b[0m         \u001b[38;5;66;03m############ Info\u001b[39;00m\n\u001b[0;32m     19\u001b[0m         \u001b[38;5;28;01massert\u001b[39;00m read80(f) \u001b[38;5;241m==\u001b[39m \u001b[38;5;124m'\u001b[39m\u001b[38;5;124mFortran Binary\u001b[39m\u001b[38;5;124m'\u001b[39m\n\u001b[0;32m     20\u001b[0m         description1 \u001b[38;5;241m=\u001b[39m read80(f)\n",
      "File \u001b[1;32mc:\\Users\\XuanLiang\\Documents\\GitHub\\netfabb\\.conda\\Lib\\site-packages\\IPython\\core\\interactiveshell.py:310\u001b[0m, in \u001b[0;36m_modified_open\u001b[1;34m(file, *args, **kwargs)\u001b[0m\n\u001b[0;32m    303\u001b[0m \u001b[38;5;28;01mif\u001b[39;00m file \u001b[38;5;129;01min\u001b[39;00m {\u001b[38;5;241m0\u001b[39m, \u001b[38;5;241m1\u001b[39m, \u001b[38;5;241m2\u001b[39m}:\n\u001b[0;32m    304\u001b[0m     \u001b[38;5;28;01mraise\u001b[39;00m \u001b[38;5;167;01mValueError\u001b[39;00m(\n\u001b[0;32m    305\u001b[0m         \u001b[38;5;124mf\u001b[39m\u001b[38;5;124m\"\u001b[39m\u001b[38;5;124mIPython won\u001b[39m\u001b[38;5;124m'\u001b[39m\u001b[38;5;124mt let you open fd=\u001b[39m\u001b[38;5;132;01m{\u001b[39;00mfile\u001b[38;5;132;01m}\u001b[39;00m\u001b[38;5;124m by default \u001b[39m\u001b[38;5;124m\"\u001b[39m\n\u001b[0;32m    306\u001b[0m         \u001b[38;5;124m\"\u001b[39m\u001b[38;5;124mas it is likely to crash IPython. If you know what you are doing, \u001b[39m\u001b[38;5;124m\"\u001b[39m\n\u001b[0;32m    307\u001b[0m         \u001b[38;5;124m\"\u001b[39m\u001b[38;5;124myou can use builtins\u001b[39m\u001b[38;5;124m'\u001b[39m\u001b[38;5;124m open.\u001b[39m\u001b[38;5;124m\"\u001b[39m\n\u001b[0;32m    308\u001b[0m     )\n\u001b[1;32m--> 310\u001b[0m \u001b[38;5;28;01mreturn\u001b[39;00m io_open(file, \u001b[38;5;241m*\u001b[39margs, \u001b[38;5;241m*\u001b[39m\u001b[38;5;241m*\u001b[39mkwargs)\n",
      "\u001b[1;31mFileNotFoundError\u001b[0m: [Errno 2] No such file or directory: 'example.geo'"
     ]
    }
   ],
   "source": [
    "data = read_geo_binary(\"example.geo\")\n",
    "disp_data = read_ens_binary(\"example.ens\", data[\"nn\"], 3)\n",
    "verts, elems, disp = data[\"nodes\"], data[\"elems\"], disp_data[\"data\"]\n",
    "mesh = get_cuboid_mesh(verts, elems, disp[:,2])\n",
    "o3d.visualization.draw_geometries([mesh])"
   ]
  },
  {
   "cell_type": "code",
   "execution_count": null,
   "metadata": {},
   "outputs": [],
   "source": []
  }
 ],
 "metadata": {
  "kernelspec": {
   "display_name": "o3d_env",
   "language": "python",
   "name": "python3"
  },
  "language_info": {
   "codemirror_mode": {
    "name": "ipython",
    "version": 3
   },
   "file_extension": ".py",
   "mimetype": "text/x-python",
   "name": "python",
   "nbconvert_exporter": "python",
   "pygments_lexer": "ipython3",
   "version": "3.11.9"
  }
 },
 "nbformat": 4,
 "nbformat_minor": 2
}
